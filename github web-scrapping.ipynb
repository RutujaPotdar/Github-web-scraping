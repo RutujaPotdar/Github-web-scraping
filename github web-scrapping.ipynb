{
 "cells": [
  {
   "cell_type": "code",
   "execution_count": 2,
   "id": "da902c45",
   "metadata": {},
   "outputs": [],
   "source": [
    "from bs4 import BeautifulSoup as bs\n",
    "import requests\n",
    "import json\n",
    "import numpy as np\n",
    "import pandas as pd"
   ]
  },
  {
   "cell_type": "code",
   "execution_count": 3,
   "id": "473e16cc",
   "metadata": {},
   "outputs": [
    {
     "data": {
      "text/plain": [
       "<Response [200]>"
      ]
     },
     "execution_count": 3,
     "metadata": {},
     "output_type": "execute_result"
    }
   ],
   "source": [
    "re = requests.get('https://github.com/topics')\n",
    "re"
   ]
  },
  {
   "cell_type": "code",
   "execution_count": 4,
   "id": "a27b651d",
   "metadata": {},
   "outputs": [],
   "source": [
    "soup = bs(re.text)"
   ]
  },
  {
   "cell_type": "code",
   "execution_count": 5,
   "id": "8e22cf85",
   "metadata": {},
   "outputs": [
    {
     "data": {
      "text/plain": [
       "['/topics/3d',\n",
       " '/topics/ajax',\n",
       " '/topics/algorithm',\n",
       " '/topics/amphp',\n",
       " '/topics/android',\n",
       " '/topics/angular',\n",
       " '/topics/ansible',\n",
       " '/topics/api',\n",
       " '/topics/arduino',\n",
       " '/topics/aspnet',\n",
       " '/topics/atom',\n",
       " '/topics/awesome',\n",
       " '/topics/aws',\n",
       " '/topics/azure',\n",
       " '/topics/babel',\n",
       " '/topics/bash',\n",
       " '/topics/bitcoin',\n",
       " '/topics/bootstrap',\n",
       " '/topics/bot',\n",
       " '/topics/c',\n",
       " '/topics/chrome',\n",
       " '/topics/chrome-extension',\n",
       " '/topics/cli',\n",
       " '/topics/clojure',\n",
       " '/topics/code-quality',\n",
       " '/topics/code-review',\n",
       " '/topics/compiler',\n",
       " '/topics/continuous-integration',\n",
       " '/topics/covid-19',\n",
       " '/topics/cpp']"
      ]
     },
     "execution_count": 5,
     "metadata": {},
     "output_type": "execute_result"
    }
   ],
   "source": [
    "l = [i['href'] for i in soup.find_all(class_=\"no-underline flex-grow-0\")]\n",
    "l"
   ]
  },
  {
   "cell_type": "code",
   "execution_count": 6,
   "id": "8f9807d1",
   "metadata": {
    "scrolled": true
   },
   "outputs": [],
   "source": [
    "def page_link(link):\n",
    "    r  = bs(requests.get('https://github.com/'+link).text)\n",
    "    a = r.find_all('h3',attrs={'class':\"f3 color-fg-muted text-normal lh-condensed\"}) \n",
    "    name=[i.find_all('a')[0].text.replace(' ','').replace('\\n','') for i in a]\n",
    "    repo=[i.find_all('a')[1].text.replace(' ','').replace('\\n','') for i in a]\n",
    "    rating = [i.text for i in r.find_all(class_=\"Counter js-social-count\")]\n",
    "    lang = [i.text for i in r.find_all(itemprop=\"programmingLanguage\")]\n",
    "    time = [i['datetime'] for i in r.find_all('relative-time')]\n",
    "    topic = [link.split('/')[2] for i in range(len(time))]\n",
    "\n",
    "    return name,repo,rating,lang,time,topic"
   ]
  },
  {
   "cell_type": "code",
   "execution_count": 7,
   "id": "a36a2f0b",
   "metadata": {},
   "outputs": [],
   "source": [
    "name = []\n",
    "repo = []\n",
    "rating = []\n",
    "lang = []\n",
    "time = []\n",
    "topic = []\n",
    "for link in l:\n",
    "    data = page_link(link)\n",
    "    name+= data[0]\n",
    "    repo += data[1]\n",
    "    rating += data[2]\n",
    "    lang += data[3]\n",
    "    time += data[4]\n",
    "    topic += data[5]"
   ]
  },
  {
   "cell_type": "code",
   "execution_count": 8,
   "id": "aec9ca69",
   "metadata": {},
   "outputs": [],
   "source": [
    "data = [name,repo,rating,lang,time,topic]"
   ]
  },
  {
   "cell_type": "code",
   "execution_count": 9,
   "id": "77a80b2f",
   "metadata": {},
   "outputs": [
    {
     "data": {
      "text/html": [
       "<div>\n",
       "<style scoped>\n",
       "    .dataframe tbody tr th:only-of-type {\n",
       "        vertical-align: middle;\n",
       "    }\n",
       "\n",
       "    .dataframe tbody tr th {\n",
       "        vertical-align: top;\n",
       "    }\n",
       "\n",
       "    .dataframe thead th {\n",
       "        text-align: right;\n",
       "    }\n",
       "</style>\n",
       "<table border=\"1\" class=\"dataframe\">\n",
       "  <thead>\n",
       "    <tr style=\"text-align: right;\">\n",
       "      <th></th>\n",
       "      <th>Name</th>\n",
       "      <th>Repository</th>\n",
       "      <th>Rating</th>\n",
       "      <th>Language</th>\n",
       "      <th>Time</th>\n",
       "      <th>Topic</th>\n",
       "    </tr>\n",
       "  </thead>\n",
       "  <tbody>\n",
       "    <tr>\n",
       "      <th>0</th>\n",
       "      <td>mrdoob</td>\n",
       "      <td>three.js</td>\n",
       "      <td>88.4k</td>\n",
       "      <td>JavaScript</td>\n",
       "      <td>2023-01-26T04:03:35Z</td>\n",
       "      <td>3d</td>\n",
       "    </tr>\n",
       "    <tr>\n",
       "      <th>1</th>\n",
       "      <td>pmndrs</td>\n",
       "      <td>react-three-fiber</td>\n",
       "      <td>21.1k</td>\n",
       "      <td>TypeScript</td>\n",
       "      <td>2023-01-26T04:19:06Z</td>\n",
       "      <td>3d</td>\n",
       "    </tr>\n",
       "    <tr>\n",
       "      <th>2</th>\n",
       "      <td>libgdx</td>\n",
       "      <td>libgdx</td>\n",
       "      <td>21k</td>\n",
       "      <td>Java</td>\n",
       "      <td>2023-01-25T10:00:23Z</td>\n",
       "      <td>3d</td>\n",
       "    </tr>\n",
       "    <tr>\n",
       "      <th>3</th>\n",
       "      <td>BabylonJS</td>\n",
       "      <td>Babylon.js</td>\n",
       "      <td>19.2k</td>\n",
       "      <td>TypeScript</td>\n",
       "      <td>2023-01-25T23:09:50Z</td>\n",
       "      <td>3d</td>\n",
       "    </tr>\n",
       "    <tr>\n",
       "      <th>4</th>\n",
       "      <td>ssloy</td>\n",
       "      <td>tinyrenderer</td>\n",
       "      <td>15.8k</td>\n",
       "      <td>C++</td>\n",
       "      <td>2023-01-05T22:06:19Z</td>\n",
       "      <td>3d</td>\n",
       "    </tr>\n",
       "    <tr>\n",
       "      <th>...</th>\n",
       "      <td>...</td>\n",
       "      <td>...</td>\n",
       "      <td>...</td>\n",
       "      <td>...</td>\n",
       "      <td>...</td>\n",
       "      <td>...</td>\n",
       "    </tr>\n",
       "    <tr>\n",
       "      <th>595</th>\n",
       "      <td>microsoft</td>\n",
       "      <td>vcpkg</td>\n",
       "      <td>17.7k</td>\n",
       "      <td>None</td>\n",
       "      <td>2023-01-25T22:31:40Z</td>\n",
       "      <td>cpp</td>\n",
       "    </tr>\n",
       "    <tr>\n",
       "      <th>596</th>\n",
       "      <td>gabime</td>\n",
       "      <td>spdlog</td>\n",
       "      <td>16.7k</td>\n",
       "      <td>None</td>\n",
       "      <td>2023-01-25T02:34:23Z</td>\n",
       "      <td>cpp</td>\n",
       "    </tr>\n",
       "    <tr>\n",
       "      <th>597</th>\n",
       "      <td>dragonflydb</td>\n",
       "      <td>dragonfly</td>\n",
       "      <td>16.7k</td>\n",
       "      <td>None</td>\n",
       "      <td>2023-01-25T09:21:13Z</td>\n",
       "      <td>cpp</td>\n",
       "    </tr>\n",
       "    <tr>\n",
       "      <th>598</th>\n",
       "      <td>catchorg</td>\n",
       "      <td>Catch2</td>\n",
       "      <td>16.1k</td>\n",
       "      <td>None</td>\n",
       "      <td>2023-01-22T19:50:07Z</td>\n",
       "      <td>cpp</td>\n",
       "    </tr>\n",
       "    <tr>\n",
       "      <th>599</th>\n",
       "      <td>ssloy</td>\n",
       "      <td>tinyrenderer</td>\n",
       "      <td>15.8k</td>\n",
       "      <td>None</td>\n",
       "      <td>2023-01-05T22:06:19Z</td>\n",
       "      <td>cpp</td>\n",
       "    </tr>\n",
       "  </tbody>\n",
       "</table>\n",
       "<p>600 rows × 6 columns</p>\n",
       "</div>"
      ],
      "text/plain": [
       "            Name         Repository Rating    Language                  Time  \\\n",
       "0         mrdoob           three.js  88.4k  JavaScript  2023-01-26T04:03:35Z   \n",
       "1         pmndrs  react-three-fiber  21.1k  TypeScript  2023-01-26T04:19:06Z   \n",
       "2         libgdx             libgdx    21k        Java  2023-01-25T10:00:23Z   \n",
       "3      BabylonJS         Babylon.js  19.2k  TypeScript  2023-01-25T23:09:50Z   \n",
       "4          ssloy       tinyrenderer  15.8k         C++  2023-01-05T22:06:19Z   \n",
       "..           ...                ...    ...         ...                   ...   \n",
       "595    microsoft              vcpkg  17.7k        None  2023-01-25T22:31:40Z   \n",
       "596       gabime             spdlog  16.7k        None  2023-01-25T02:34:23Z   \n",
       "597  dragonflydb          dragonfly  16.7k        None  2023-01-25T09:21:13Z   \n",
       "598     catchorg             Catch2  16.1k        None  2023-01-22T19:50:07Z   \n",
       "599        ssloy       tinyrenderer  15.8k        None  2023-01-05T22:06:19Z   \n",
       "\n",
       "    Topic  \n",
       "0      3d  \n",
       "1      3d  \n",
       "2      3d  \n",
       "3      3d  \n",
       "4      3d  \n",
       "..    ...  \n",
       "595   cpp  \n",
       "596   cpp  \n",
       "597   cpp  \n",
       "598   cpp  \n",
       "599   cpp  \n",
       "\n",
       "[600 rows x 6 columns]"
      ]
     },
     "execution_count": 9,
     "metadata": {},
     "output_type": "execute_result"
    }
   ],
   "source": [
    "df = pd.DataFrame(data)\n",
    "df = df.transpose()\n",
    "df.columns = ['Name','Repository','Rating','Language','Time','Topic']\n",
    "df"
   ]
  }
 ],
 "metadata": {
  "kernelspec": {
   "display_name": "Python 3 (ipykernel)",
   "language": "python",
   "name": "python3"
  },
  "language_info": {
   "codemirror_mode": {
    "name": "ipython",
    "version": 3
   },
   "file_extension": ".py",
   "mimetype": "text/x-python",
   "name": "python",
   "nbconvert_exporter": "python",
   "pygments_lexer": "ipython3",
   "version": "3.9.12"
  }
 },
 "nbformat": 4,
 "nbformat_minor": 5
}
